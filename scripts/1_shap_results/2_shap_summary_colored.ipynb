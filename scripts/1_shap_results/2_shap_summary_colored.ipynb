{
 "cells": [
  {
   "cell_type": "code",
   "execution_count": null,
   "metadata": {},
   "outputs": [],
   "source": [
    "import pandas as pd\n",
    "import numpy as np\n",
    "import os\n",
    "from sklearn.ensemble import RandomForestClassifier\n",
    "from imblearn.over_sampling import SMOTE\n",
    "import shap\n",
    "import matplotlib.pyplot as plt\n",
    "import pickle as pkl\n"
   ]
  },
  {
   "attachments": {},
   "cell_type": "markdown",
   "metadata": {},
   "source": [
    "### Load Data\n",
    "\n",
    "Load csv.\n",
    "\n",
    "Features are the emotions; the target variable is 'is_questionable'.\n",
    "\n",
    "Ratain only users with at least one emotion.\n",
    "\n",
    "Drop rows where \"is_questionable\" = NA."
   ]
  },
  {
   "cell_type": "code",
   "execution_count": null,
   "metadata": {},
   "outputs": [],
   "source": [
    "usr_emo_lean_path = os.path.join(\"..\",\"..\",\"data\",\"processed\",\"usr_emo_lean.gz\")\n",
    "ur_df = pd.read_csv(usr_emo_lean_path).dropna().query('n_emo > 0')\n",
    "#ur_df"
   ]
  },
  {
   "attachments": {},
   "cell_type": "markdown",
   "metadata": {},
   "source": [
    "Besides the thresholds, the summary contains:\n",
    "- Number of accounts\n",
    "- The percentage of 'Questionable' accounts\n",
    "- Number of 'Questionable' accounts\n",
    "- Number of correctly classified 'Questionable' accounts\n",
    "- Number of accounts classified as 'Questionable'\n",
    "- Precision and Recall\n",
    "\n",
    "As the minimum number of comments decrases, the proportion of Questionable accounts decreases too.\n",
    "And so do precision and recall.\n",
    "The number of emotions involved impacts much less on precision and recall than minimum number of comments"
   ]
  },
  {
   "cell_type": "markdown",
   "metadata": {},
   "source": [
    "Browse the results directory and plot the bar and beeswarm plots for each experiment."
   ]
  },
  {
   "cell_type": "code",
   "execution_count": null,
   "metadata": {},
   "outputs": [],
   "source": [
    "shap_result_path = os.path.join(\"..\",\"..\",\"output\",\"shap_results\")\n",
    "for i,dir in enumerate(os.listdir(shap_result_path)):\n",
    "    if os.path.isdir(os.path.join(shap_result_path, dir)):\n",
    "        print(dir)\n",
    "        if dir == \"plots\":\n",
    "            continue\n",
    "        (min_comments, min_emo) = [int(dir.split('_')[j]) for j in [0,3] ]\n",
    "        # select the SHAP with users of at least 8 comments and 1 emotion threshold\n",
    "        if min_emo == 1 and min_comments == 8:\n",
    "            df = ur_df.query(\"n_comments >= @min_comments and n_emo >= @min_emo\")\n",
    "            Y = np.where(df['is_questionable'].astype(int)>0,1,0)\n",
    "            X = df[['anger','anticipation','disgust','fear','joy','sadness','surprise','trust']]\n",
    "            # load shap values for the selected experiment\n",
    "            with open(str(os.path.join(shap_result_path,dir,'shap.pkl')), 'rb') as f:\n",
    "                my_shap_values = pkl.load(f)\n",
    "            break\n"
   ]
  },
  {
   "cell_type": "code",
   "execution_count": null,
   "metadata": {},
   "outputs": [],
   "source": [
    "# Extract feature importance expressed as mean absolute shap value\n",
    "plot_importance = pd.DataFrame({'Feature':X.columns, 'Importance':np.sum(np.mean(np.abs(my_shap_values), axis=1), axis=0)})\n",
    "print(np.sum(np.mean(np.abs(my_shap_values), axis=1), axis=0))\n",
    "print(X.columns)\n",
    "plot_importance.sort_values('Importance', ascending=False)\n",
    "print(plot_importance)\n",
    "plot_importance.to_csv('../../output/plot_importance.csv', index=False)"
   ]
  },
  {
   "cell_type": "code",
   "execution_count": null,
   "metadata": {},
   "outputs": [],
   "source": [
    "# function that modifies SHAP summary's colors\n",
    "from matplotlib import cm\n",
    "from matplotlib.colors import ListedColormap, LinearSegmentedColormap\n",
    "def get_new_cmp(color01, color04):\n",
    "    print(color01)\n",
    "    print(color04)\n",
    "\n",
    "    RGB_val = 255\n",
    "\n",
    "    #color01 = (77, 146, 33)#color01= (0,150,200)  # Blue wanted\n",
    "    #color04 = (197, 27, 125)#color04= (220,60,60)  # red wanted\n",
    "    Colors = [color01, color04]\n",
    "\n",
    "    # Creating a blue red palette transition for graphics\n",
    "    Colors= [(R/RGB_val,G/RGB_val,B/RGB_val) for idx, (R,G,B) in enumerate(Colors)]\n",
    "    n = 256\n",
    "\n",
    "    # Start of the creation of the gradient\n",
    "    Color01= ListedColormap(Colors[0], name='Color01', N=None)\n",
    "    Color04= ListedColormap(Colors[1], name='Color04', N=None)\n",
    "    top = cm.get_cmap(Color01,128)\n",
    "    bottom = cm.get_cmap(Color04,128)\n",
    "    newcolors = np.vstack((top(np.linspace(0, 1, 128)),\n",
    "                        bottom(np.linspace(0, 1, 128))))\n",
    "\n",
    "    mymin0 = newcolors[0][0]\n",
    "    mymin1 = newcolors[0][1]\n",
    "    mymin2 = newcolors[0][2]\n",
    "    mymin3 = newcolors[0][3]\n",
    "    mymax0 = newcolors[255][0]\n",
    "    mymax1 = newcolors[255][1]\n",
    "    mymax2 = newcolors[255][2]\n",
    "    mymax3 = newcolors[255][3]\n",
    "\n",
    "    GradientBlueRed= [np.linspace(mymin0, mymax0,  n),\n",
    "                    np.linspace(mymin1, mymax1,  n),\n",
    "                    np.linspace(mymin2, mymax2,  n),\n",
    "                    np.linspace(mymin3, mymax3,  n)]\n",
    "\n",
    "    GradientBlueRed_res =np.transpose(GradientBlueRed)\n",
    "\n",
    "    newcmp = ListedColormap(GradientBlueRed_res, name='BlueRed')\n",
    "    return(newcmp)\n"
   ]
  },
  {
   "cell_type": "code",
   "execution_count": null,
   "metadata": {},
   "outputs": [],
   "source": [
    "# choose colors\n",
    "import ipywidgets as widgets\n",
    "from ipywidgets import interact, interactive, fixed, interact_manual\n",
    "w_high = widgets.ColorPicker(\n",
    "    concise=False,\n",
    "    description='Pick a color',\n",
    "    value='blue',\n",
    "    disabled=False\n",
    ")\n",
    "w_low = widgets.ColorPicker(\n",
    "    concise=False,\n",
    "    description='Pick a color',\n",
    "    value='blue',\n",
    "    disabled=False\n",
    ")\n",
    "def hex_to_rgb(value):\n",
    "    value = value.lstrip('#')\n",
    "    lv = len(value)\n",
    "    return tuple(int(value[i:i + lv // 3], 16) for i in range(0, lv, lv // 3))\n"
   ]
  },
  {
   "cell_type": "code",
   "execution_count": null,
   "metadata": {},
   "outputs": [],
   "source": [
    "#071a5d\n",
    "w_high"
   ]
  },
  {
   "cell_type": "code",
   "execution_count": null,
   "metadata": {},
   "outputs": [],
   "source": [
    "#cedfeb\n",
    "w_low"
   ]
  },
  {
   "cell_type": "code",
   "execution_count": null,
   "metadata": {},
   "outputs": [],
   "source": [
    "len(my_shap_values[1])"
   ]
  },
  {
   "cell_type": "code",
   "execution_count": null,
   "metadata": {},
   "outputs": [],
   "source": [
    "plt.figure()\n",
    "shap.summary_plot(my_shap_values[1], X.values, feature_names = X.columns, show=False)\n",
    "newcmp = get_new_cmp(hex_to_rgb(w_low.value), hex_to_rgb(w_high.value))\n",
    "for fc in plt.gcf().get_children():\n",
    "    for fcc in fc.get_children():\n",
    "        if hasattr(fcc, \"set_cmap\"):\n",
    "            fcc.set_cmap(newcmp)\n",
    "#plt.savefig(\"shap_summary.pdf\",dpi=300)\n",
    "#plt.savefig(\"shap_summary.png\",dpi=300)\n",
    "\n",
    "plt.show()\n"
   ]
  }
 ],
 "metadata": {
  "kernelspec": {
   "display_name": "shapley",
   "language": "python",
   "name": "python3"
  },
  "language_info": {
   "codemirror_mode": {
    "name": "ipython",
    "version": 3
   },
   "file_extension": ".py",
   "mimetype": "text/x-python",
   "name": "python",
   "nbconvert_exporter": "python",
   "pygments_lexer": "ipython3",
   "version": "3.10.9"
  },
  "orig_nbformat": 4
 },
 "nbformat": 4,
 "nbformat_minor": 2
}
