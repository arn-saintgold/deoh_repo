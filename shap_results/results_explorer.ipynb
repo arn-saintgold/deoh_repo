{
 "cells": [
  {
   "cell_type": "code",
   "execution_count": 1,
   "metadata": {},
   "outputs": [],
   "source": [
    "import pandas as pd\n",
    "import numpy as np\n",
    "import os\n",
    "from sklearn.ensemble import RandomForestClassifier\n",
    "from imblearn.over_sampling import SMOTE\n",
    "import shap\n",
    "import matplotlib.pyplot as plt\n",
    "import pickle as pkl\n",
    "from joblib import load#,dump"
   ]
  },
  {
   "cell_type": "code",
   "execution_count": 25,
   "metadata": {},
   "outputs": [],
   "source": [
    "ur_df = pd.read_csv('usr_emo_lean.csv.gz').dropna().query('n_emo > 0')\n",
    "\n",
    "# Every user without emotiveness was excluded while cleaning.\n",
    "# Proof:\n",
    "# print(df.query('w_emotiveness == 0'))\n",
    "\n",
    "# The target variable is 'is_questionable'.\n",
    "#Y = np.where(df['is_questionable'].astype(int)>0,1,0)\n",
    "# The features are the 8 plutchik emotions, plus the 4 toxicity percentages\n",
    "#X = df[['anger','anticipation','disgust','fear','joy','sadness','surprise','trust']]"
   ]
  },
  {
   "cell_type": "code",
   "execution_count": 29,
   "metadata": {},
   "outputs": [
    {
     "ename": "KeyError",
     "evalue": "0",
     "output_type": "error",
     "traceback": [
      "\u001b[1;31m---------------------------------------------------------------------------\u001b[0m",
      "\u001b[1;31mKeyError\u001b[0m                                  Traceback (most recent call last)",
      "Cell \u001b[1;32mIn[29], line 1\u001b[0m\n\u001b[1;32m----> 1\u001b[0m model \u001b[39m=\u001b[39m load(os\u001b[39m.\u001b[39;49mpath\u001b[39m.\u001b[39;49mjoin(os\u001b[39m.\u001b[39;49mlistdir()[\u001b[39m0\u001b[39;49m], \u001b[39m'\u001b[39;49m\u001b[39msmote_model.joblib\u001b[39;49m\u001b[39m'\u001b[39;49m))\n",
      "File \u001b[1;32mc:\\Users\\arnou\\anaconda3\\envs\\shapley\\lib\\site-packages\\joblib\\numpy_pickle.py:587\u001b[0m, in \u001b[0;36mload\u001b[1;34m(filename, mmap_mode)\u001b[0m\n\u001b[0;32m    581\u001b[0m             \u001b[39mif\u001b[39;00m \u001b[39misinstance\u001b[39m(fobj, \u001b[39mstr\u001b[39m):\n\u001b[0;32m    582\u001b[0m                 \u001b[39m# if the returned file object is a string, this means we\u001b[39;00m\n\u001b[0;32m    583\u001b[0m                 \u001b[39m# try to load a pickle file generated with an version of\u001b[39;00m\n\u001b[0;32m    584\u001b[0m                 \u001b[39m# Joblib so we load it with joblib compatibility function.\u001b[39;00m\n\u001b[0;32m    585\u001b[0m                 \u001b[39mreturn\u001b[39;00m load_compatibility(fobj)\n\u001b[1;32m--> 587\u001b[0m             obj \u001b[39m=\u001b[39m _unpickle(fobj, filename, mmap_mode)\n\u001b[0;32m    588\u001b[0m \u001b[39mreturn\u001b[39;00m obj\n",
      "File \u001b[1;32mc:\\Users\\arnou\\anaconda3\\envs\\shapley\\lib\\site-packages\\joblib\\numpy_pickle.py:506\u001b[0m, in \u001b[0;36m_unpickle\u001b[1;34m(fobj, filename, mmap_mode)\u001b[0m\n\u001b[0;32m    504\u001b[0m obj \u001b[39m=\u001b[39m \u001b[39mNone\u001b[39;00m\n\u001b[0;32m    505\u001b[0m \u001b[39mtry\u001b[39;00m:\n\u001b[1;32m--> 506\u001b[0m     obj \u001b[39m=\u001b[39m unpickler\u001b[39m.\u001b[39;49mload()\n\u001b[0;32m    507\u001b[0m     \u001b[39mif\u001b[39;00m unpickler\u001b[39m.\u001b[39mcompat_mode:\n\u001b[0;32m    508\u001b[0m         warnings\u001b[39m.\u001b[39mwarn(\u001b[39m\"\u001b[39m\u001b[39mThe file \u001b[39m\u001b[39m'\u001b[39m\u001b[39m%s\u001b[39;00m\u001b[39m'\u001b[39m\u001b[39m has been generated with a \u001b[39m\u001b[39m\"\u001b[39m\n\u001b[0;32m    509\u001b[0m                       \u001b[39m\"\u001b[39m\u001b[39mjoblib version less than 0.10. \u001b[39m\u001b[39m\"\u001b[39m\n\u001b[0;32m    510\u001b[0m                       \u001b[39m\"\u001b[39m\u001b[39mPlease regenerate this pickle file.\u001b[39m\u001b[39m\"\u001b[39m\n\u001b[0;32m    511\u001b[0m                       \u001b[39m%\u001b[39m filename,\n\u001b[0;32m    512\u001b[0m                       \u001b[39mDeprecationWarning\u001b[39;00m, stacklevel\u001b[39m=\u001b[39m\u001b[39m3\u001b[39m)\n",
      "File \u001b[1;32mc:\\Users\\arnou\\anaconda3\\envs\\shapley\\lib\\pickle.py:1213\u001b[0m, in \u001b[0;36m_Unpickler.load\u001b[1;34m(self)\u001b[0m\n\u001b[0;32m   1211\u001b[0m             \u001b[39mraise\u001b[39;00m \u001b[39mEOFError\u001b[39;00m\n\u001b[0;32m   1212\u001b[0m         \u001b[39massert\u001b[39;00m \u001b[39misinstance\u001b[39m(key, bytes_types)\n\u001b[1;32m-> 1213\u001b[0m         dispatch[key[\u001b[39m0\u001b[39;49m]](\u001b[39mself\u001b[39m)\n\u001b[0;32m   1214\u001b[0m \u001b[39mexcept\u001b[39;00m _Stop \u001b[39mas\u001b[39;00m stopinst:\n\u001b[0;32m   1215\u001b[0m     \u001b[39mreturn\u001b[39;00m stopinst\u001b[39m.\u001b[39mvalue\n",
      "\u001b[1;31mKeyError\u001b[0m: 0"
     ]
    }
   ],
   "source": [
    "#model = load(os.path.join(os.listdir()[0], 'smote_model.joblib'))\n",
    "\n",
    "\n"
   ]
  },
  {
   "cell_type": "code",
   "execution_count": 38,
   "metadata": {},
   "outputs": [
    {
     "ename": "ValueError",
     "evalue": "The beeswarm plot does not support plotting explanations with instances that have more than one dimension!",
     "output_type": "error",
     "traceback": [
      "\u001b[1;31m---------------------------------------------------------------------------\u001b[0m",
      "\u001b[1;31mValueError\u001b[0m                                Traceback (most recent call last)",
      "Cell \u001b[1;32mIn[38], line 28\u001b[0m\n\u001b[0;32m     23\u001b[0m shap_obj \u001b[39m=\u001b[39m shap\u001b[39m.\u001b[39mTreeExplainer(SMOTE_model)(QX)\n\u001b[0;32m     25\u001b[0m \u001b[39m#with open(str(os.path.join(dir,'Rshap.pkl')), 'rb') as f:\u001b[39;00m\n\u001b[0;32m     26\u001b[0m \u001b[39m#    Rshap = pkl.load(f)\u001b[39;00m\n\u001b[0;32m     27\u001b[0m \u001b[39m#shap.summary_plot(Qshap, QX, show=True)\u001b[39;00m\n\u001b[1;32m---> 28\u001b[0m shap\u001b[39m.\u001b[39;49mplots\u001b[39m.\u001b[39;49mbeeswarm(shap_obj)\n\u001b[0;32m     30\u001b[0m \u001b[39m#plt.savefig(os.path.join(results_path, 'Qshap.pdf'))\u001b[39;00m\n\u001b[0;32m     31\u001b[0m \u001b[39mbreak\u001b[39;00m\n",
      "File \u001b[1;32mc:\\Users\\arnou\\anaconda3\\envs\\shapley\\lib\\site-packages\\shap\\plots\\_beeswarm.py:54\u001b[0m, in \u001b[0;36mbeeswarm\u001b[1;34m(shap_values, max_display, order, clustering, cluster_threshold, color, axis_color, alpha, show, log_scale, color_bar, plot_size, color_bar_label)\u001b[0m\n\u001b[0;32m     49\u001b[0m     \u001b[39mraise\u001b[39;00m \u001b[39mValueError\u001b[39;00m(\n\u001b[0;32m     50\u001b[0m         \u001b[39m\"\u001b[39m\u001b[39mThe beeswarm plot does not support plotting a single instance, please pass \u001b[39m\u001b[39m\"\u001b[39m\n\u001b[0;32m     51\u001b[0m         \u001b[39m\"\u001b[39m\u001b[39man explanation matrix with many instances!\u001b[39m\u001b[39m\"\u001b[39m\n\u001b[0;32m     52\u001b[0m     )\n\u001b[0;32m     53\u001b[0m \u001b[39melif\u001b[39;00m \u001b[39mlen\u001b[39m(shap_values\u001b[39m.\u001b[39mshape) \u001b[39m>\u001b[39m \u001b[39m2\u001b[39m:\n\u001b[1;32m---> 54\u001b[0m     \u001b[39mraise\u001b[39;00m \u001b[39mValueError\u001b[39;00m(\n\u001b[0;32m     55\u001b[0m         \u001b[39m\"\u001b[39m\u001b[39mThe beeswarm plot does not support plotting explanations with instances that have more \u001b[39m\u001b[39m\"\u001b[39m\n\u001b[0;32m     56\u001b[0m         \u001b[39m\"\u001b[39m\u001b[39mthan one dimension!\u001b[39m\u001b[39m\"\u001b[39m\n\u001b[0;32m     57\u001b[0m     )\n\u001b[0;32m     58\u001b[0m shap_exp \u001b[39m=\u001b[39m shap_values\n\u001b[0;32m     59\u001b[0m \u001b[39m# we make a copy here, because later there are places that might modify this array\u001b[39;00m\n",
      "\u001b[1;31mValueError\u001b[0m: The beeswarm plot does not support plotting explanations with instances that have more than one dimension!"
     ]
    }
   ],
   "source": [
    "for dir in os.listdir():\n",
    "    if os.path.isdir(dir):\n",
    "        (min_comments, min_emo) = [int(os.listdir()[0].split('_')[i]) for i in [0,3] ]\n",
    "        df = ur_df.query(\"n_comments >= @min_comments and n_emo >= @min_emo\")\n",
    "        Y = np.where(df['is_questionable'].astype(int)>0,1,0)\n",
    "        X = df[['anger','anticipation','disgust','fear','joy','sadness','surprise','trust']]\n",
    "        QX = df.query(\"is_questionable > 0.5\")[['anger','anticipation','disgust','fear','joy','sadness','surprise','trust']]\n",
    "        QY = np.where(df.query(\"is_questionable > 0.5\")['is_questionable'].astype(int)>0,1,0)\n",
    "        RX = df.query(\"is_questionable <= 0.5\")[['anger','anticipation','disgust','fear','joy','sadness','surprise','trust']]\n",
    "        RY = np.where(df.query(\"is_questionable <= 0.5\")['is_questionable'].astype(int)>0,1,0)\n",
    "        #model = load(os.path.join(dir, 'smote_model.joblib'))\n",
    "        oversample = SMOTE(random_state=1518)\n",
    "\n",
    "        #Augment the data points with SMOTE\n",
    "        over_X, over_Y = oversample.fit_resample(X, Y)\n",
    "\n",
    "        # Instanciate a standard Random Forest Regressor\n",
    "        SMOTE_model = RandomForestClassifier(random_state=1518)\n",
    "        # Fit the data\n",
    "        SMOTE_model.fit(over_X,over_Y)\n",
    "        with open(str(os.path.join(dir,'Qshap.pkl')), 'rb') as f:\n",
    "            Qshap = pkl.load(f)\n",
    "        shap_obj = shap.TreeExplainer(SMOTE_model)(QX)\n",
    "        \n",
    "        #with open(str(os.path.join(dir,'Rshap.pkl')), 'rb') as f:\n",
    "        #    Rshap = pkl.load(f)\n",
    "        #shap.summary_plot(Qshap, QX, show=True)\n",
    "        shap.plots.beeswarm(shap_obj)\n",
    "\n",
    "        #plt.savefig(os.path.join(results_path, 'Qshap.pdf'))\n",
    "        break"
   ]
  }
 ],
 "metadata": {
  "kernelspec": {
   "display_name": "shapley",
   "language": "python",
   "name": "python3"
  },
  "language_info": {
   "codemirror_mode": {
    "name": "ipython",
    "version": 3
   },
   "file_extension": ".py",
   "mimetype": "text/x-python",
   "name": "python",
   "nbconvert_exporter": "python",
   "pygments_lexer": "ipython3",
   "version": "3.10.9"
  },
  "orig_nbformat": 4
 },
 "nbformat": 4,
 "nbformat_minor": 2
}
